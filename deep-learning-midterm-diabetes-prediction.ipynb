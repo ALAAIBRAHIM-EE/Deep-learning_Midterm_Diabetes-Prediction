{
 "cells": [
  {
   "cell_type": "markdown",
   "id": "87827765",
   "metadata": {
    "papermill": {
     "duration": 0.008928,
     "end_time": "2024-11-11T16:58:17.032802",
     "exception": false,
     "start_time": "2024-11-11T16:58:17.023874",
     "status": "completed"
    },
    "tags": []
   },
   "source": [
    "**IMPORT**"
   ]
  },
  {
   "cell_type": "code",
   "execution_count": 1,
   "id": "f6165fd9",
   "metadata": {
    "_cell_guid": "b1076dfc-b9ad-4769-8c92-a6c4dae69d19",
    "_uuid": "8f2839f25d086af736a60e9eeb907d3b93b6e0e5",
    "execution": {
     "iopub.execute_input": "2024-11-11T16:58:17.051891Z",
     "iopub.status.busy": "2024-11-11T16:58:17.051326Z",
     "iopub.status.idle": "2024-11-11T16:58:36.137395Z",
     "shell.execute_reply": "2024-11-11T16:58:36.135828Z"
    },
    "papermill": {
     "duration": 19.099173,
     "end_time": "2024-11-11T16:58:36.140587",
     "exception": false,
     "start_time": "2024-11-11T16:58:17.041414",
     "status": "completed"
    },
    "tags": []
   },
   "outputs": [],
   "source": [
    "\n",
    "import numpy as np\n",
    "import pandas as pd\n",
    "from tensorflow.keras.models import Sequential, load_model  \n",
    "from tensorflow.keras.layers import Dense\n",
    "from tensorflow.keras.utils import to_categorical\n",
    "from sklearn.model_selection import train_test_split\n",
    "import matplotlib.pyplot as plt\n",
    "from tensorflow.keras.callbacks import EarlyStopping"
   ]
  },
  {
   "cell_type": "markdown",
   "id": "f17678b0",
   "metadata": {
    "papermill": {
     "duration": 0.008043,
     "end_time": "2024-11-11T16:58:36.157358",
     "exception": false,
     "start_time": "2024-11-11T16:58:36.149315",
     "status": "completed"
    },
    "tags": []
   },
   "source": [
    "******LOOD DATA******"
   ]
  },
  {
   "cell_type": "code",
   "execution_count": 2,
   "id": "9b0cdfa7",
   "metadata": {
    "execution": {
     "iopub.execute_input": "2024-11-11T16:58:36.176643Z",
     "iopub.status.busy": "2024-11-11T16:58:36.175879Z",
     "iopub.status.idle": "2024-11-11T16:58:36.220516Z",
     "shell.execute_reply": "2024-11-11T16:58:36.219267Z"
    },
    "papermill": {
     "duration": 0.057317,
     "end_time": "2024-11-11T16:58:36.223259",
     "exception": false,
     "start_time": "2024-11-11T16:58:36.165942",
     "status": "completed"
    },
    "tags": []
   },
   "outputs": [
    {
     "data": {
      "text/html": [
       "<div>\n",
       "<style scoped>\n",
       "    .dataframe tbody tr th:only-of-type {\n",
       "        vertical-align: middle;\n",
       "    }\n",
       "\n",
       "    .dataframe tbody tr th {\n",
       "        vertical-align: top;\n",
       "    }\n",
       "\n",
       "    .dataframe thead th {\n",
       "        text-align: right;\n",
       "    }\n",
       "</style>\n",
       "<table border=\"1\" class=\"dataframe\">\n",
       "  <thead>\n",
       "    <tr style=\"text-align: right;\">\n",
       "      <th></th>\n",
       "      <th>Pregnancies</th>\n",
       "      <th>Glucose</th>\n",
       "      <th>BloodPressure</th>\n",
       "      <th>SkinThickness</th>\n",
       "      <th>Insulin</th>\n",
       "      <th>BMI</th>\n",
       "      <th>DiabetesPedigreeFunction</th>\n",
       "      <th>Age</th>\n",
       "      <th>Outcome</th>\n",
       "    </tr>\n",
       "  </thead>\n",
       "  <tbody>\n",
       "    <tr>\n",
       "      <th>0</th>\n",
       "      <td>6</td>\n",
       "      <td>148</td>\n",
       "      <td>72</td>\n",
       "      <td>35</td>\n",
       "      <td>0</td>\n",
       "      <td>33.6</td>\n",
       "      <td>0.627</td>\n",
       "      <td>50</td>\n",
       "      <td>1</td>\n",
       "    </tr>\n",
       "    <tr>\n",
       "      <th>1</th>\n",
       "      <td>1</td>\n",
       "      <td>85</td>\n",
       "      <td>66</td>\n",
       "      <td>29</td>\n",
       "      <td>0</td>\n",
       "      <td>26.6</td>\n",
       "      <td>0.351</td>\n",
       "      <td>31</td>\n",
       "      <td>0</td>\n",
       "    </tr>\n",
       "    <tr>\n",
       "      <th>2</th>\n",
       "      <td>8</td>\n",
       "      <td>183</td>\n",
       "      <td>64</td>\n",
       "      <td>0</td>\n",
       "      <td>0</td>\n",
       "      <td>23.3</td>\n",
       "      <td>0.672</td>\n",
       "      <td>32</td>\n",
       "      <td>1</td>\n",
       "    </tr>\n",
       "    <tr>\n",
       "      <th>3</th>\n",
       "      <td>1</td>\n",
       "      <td>89</td>\n",
       "      <td>66</td>\n",
       "      <td>23</td>\n",
       "      <td>94</td>\n",
       "      <td>28.1</td>\n",
       "      <td>0.167</td>\n",
       "      <td>21</td>\n",
       "      <td>0</td>\n",
       "    </tr>\n",
       "    <tr>\n",
       "      <th>4</th>\n",
       "      <td>0</td>\n",
       "      <td>137</td>\n",
       "      <td>40</td>\n",
       "      <td>35</td>\n",
       "      <td>168</td>\n",
       "      <td>43.1</td>\n",
       "      <td>2.288</td>\n",
       "      <td>33</td>\n",
       "      <td>1</td>\n",
       "    </tr>\n",
       "  </tbody>\n",
       "</table>\n",
       "</div>"
      ],
      "text/plain": [
       "   Pregnancies  Glucose  BloodPressure  SkinThickness  Insulin   BMI  \\\n",
       "0            6      148             72             35        0  33.6   \n",
       "1            1       85             66             29        0  26.6   \n",
       "2            8      183             64              0        0  23.3   \n",
       "3            1       89             66             23       94  28.1   \n",
       "4            0      137             40             35      168  43.1   \n",
       "\n",
       "   DiabetesPedigreeFunction  Age  Outcome  \n",
       "0                     0.627   50        1  \n",
       "1                     0.351   31        0  \n",
       "2                     0.672   32        1  \n",
       "3                     0.167   21        0  \n",
       "4                     2.288   33        1  "
      ]
     },
     "execution_count": 2,
     "metadata": {},
     "output_type": "execute_result"
    }
   ],
   "source": [
    "data = pd.read_csv(\"../input/pima-indians-diabetes-database/diabetes.csv\")\n",
    "data.head()"
   ]
  },
  {
   "cell_type": "markdown",
   "id": "53600ff2",
   "metadata": {
    "papermill": {
     "duration": 0.009292,
     "end_time": "2024-11-11T16:58:36.241345",
     "exception": false,
     "start_time": "2024-11-11T16:58:36.232053",
     "status": "completed"
    },
    "tags": []
   },
   "source": [
    "****Define feature columns and label****"
   ]
  },
  {
   "cell_type": "code",
   "execution_count": 3,
   "id": "47f08e15",
   "metadata": {
    "execution": {
     "iopub.execute_input": "2024-11-11T16:58:36.260745Z",
     "iopub.status.busy": "2024-11-11T16:58:36.260268Z",
     "iopub.status.idle": "2024-11-11T16:58:36.275451Z",
     "shell.execute_reply": "2024-11-11T16:58:36.274170Z"
    },
    "papermill": {
     "duration": 0.028032,
     "end_time": "2024-11-11T16:58:36.278134",
     "exception": false,
     "start_time": "2024-11-11T16:58:36.250102",
     "status": "completed"
    },
    "tags": []
   },
   "outputs": [],
   "source": [
    "feature_cols = ['Pregnancies', 'Glucose', 'BloodPressure', 'SkinThickness', \n",
    "                'Insulin', 'BMI', 'DiabetesPedigreeFunction', 'Age']\n",
    "X = data[feature_cols]  # Predictors (features)\n",
    "y = data['Outcome']     # Label (target variable)"
   ]
  },
  {
   "cell_type": "markdown",
   "id": "55c243cf",
   "metadata": {
    "papermill": {
     "duration": 0.008642,
     "end_time": "2024-11-11T16:58:36.295973",
     "exception": false,
     "start_time": "2024-11-11T16:58:36.287331",
     "status": "completed"
    },
    "tags": []
   },
   "source": [
    "**Normalize the features**"
   ]
  },
  {
   "cell_type": "code",
   "execution_count": 4,
   "id": "a528b4f1",
   "metadata": {
    "execution": {
     "iopub.execute_input": "2024-11-11T16:58:36.315831Z",
     "iopub.status.busy": "2024-11-11T16:58:36.315345Z",
     "iopub.status.idle": "2024-11-11T16:58:36.340162Z",
     "shell.execute_reply": "2024-11-11T16:58:36.338864Z"
    },
    "papermill": {
     "duration": 0.038044,
     "end_time": "2024-11-11T16:58:36.343041",
     "exception": false,
     "start_time": "2024-11-11T16:58:36.304997",
     "status": "completed"
    },
    "tags": []
   },
   "outputs": [
    {
     "data": {
      "text/html": [
       "<div>\n",
       "<style scoped>\n",
       "    .dataframe tbody tr th:only-of-type {\n",
       "        vertical-align: middle;\n",
       "    }\n",
       "\n",
       "    .dataframe tbody tr th {\n",
       "        vertical-align: top;\n",
       "    }\n",
       "\n",
       "    .dataframe thead th {\n",
       "        text-align: right;\n",
       "    }\n",
       "</style>\n",
       "<table border=\"1\" class=\"dataframe\">\n",
       "  <thead>\n",
       "    <tr style=\"text-align: right;\">\n",
       "      <th></th>\n",
       "      <th>Pregnancies</th>\n",
       "      <th>Glucose</th>\n",
       "      <th>BloodPressure</th>\n",
       "      <th>SkinThickness</th>\n",
       "      <th>Insulin</th>\n",
       "      <th>BMI</th>\n",
       "      <th>DiabetesPedigreeFunction</th>\n",
       "      <th>Age</th>\n",
       "    </tr>\n",
       "  </thead>\n",
       "  <tbody>\n",
       "    <tr>\n",
       "      <th>0</th>\n",
       "      <td>0.352941</td>\n",
       "      <td>0.743719</td>\n",
       "      <td>0.590164</td>\n",
       "      <td>0.353535</td>\n",
       "      <td>0.000000</td>\n",
       "      <td>0.500745</td>\n",
       "      <td>0.234415</td>\n",
       "      <td>0.483333</td>\n",
       "    </tr>\n",
       "    <tr>\n",
       "      <th>1</th>\n",
       "      <td>0.058824</td>\n",
       "      <td>0.427136</td>\n",
       "      <td>0.540984</td>\n",
       "      <td>0.292929</td>\n",
       "      <td>0.000000</td>\n",
       "      <td>0.396423</td>\n",
       "      <td>0.116567</td>\n",
       "      <td>0.166667</td>\n",
       "    </tr>\n",
       "    <tr>\n",
       "      <th>2</th>\n",
       "      <td>0.470588</td>\n",
       "      <td>0.919598</td>\n",
       "      <td>0.524590</td>\n",
       "      <td>0.000000</td>\n",
       "      <td>0.000000</td>\n",
       "      <td>0.347243</td>\n",
       "      <td>0.253629</td>\n",
       "      <td>0.183333</td>\n",
       "    </tr>\n",
       "    <tr>\n",
       "      <th>3</th>\n",
       "      <td>0.058824</td>\n",
       "      <td>0.447236</td>\n",
       "      <td>0.540984</td>\n",
       "      <td>0.232323</td>\n",
       "      <td>0.111111</td>\n",
       "      <td>0.418778</td>\n",
       "      <td>0.038002</td>\n",
       "      <td>0.000000</td>\n",
       "    </tr>\n",
       "    <tr>\n",
       "      <th>4</th>\n",
       "      <td>0.000000</td>\n",
       "      <td>0.688442</td>\n",
       "      <td>0.327869</td>\n",
       "      <td>0.353535</td>\n",
       "      <td>0.198582</td>\n",
       "      <td>0.642325</td>\n",
       "      <td>0.943638</td>\n",
       "      <td>0.200000</td>\n",
       "    </tr>\n",
       "  </tbody>\n",
       "</table>\n",
       "</div>"
      ],
      "text/plain": [
       "   Pregnancies   Glucose  BloodPressure  SkinThickness   Insulin       BMI  \\\n",
       "0     0.352941  0.743719       0.590164       0.353535  0.000000  0.500745   \n",
       "1     0.058824  0.427136       0.540984       0.292929  0.000000  0.396423   \n",
       "2     0.470588  0.919598       0.524590       0.000000  0.000000  0.347243   \n",
       "3     0.058824  0.447236       0.540984       0.232323  0.111111  0.418778   \n",
       "4     0.000000  0.688442       0.327869       0.353535  0.198582  0.642325   \n",
       "\n",
       "   DiabetesPedigreeFunction       Age  \n",
       "0                  0.234415  0.483333  \n",
       "1                  0.116567  0.166667  \n",
       "2                  0.253629  0.183333  \n",
       "3                  0.038002  0.000000  \n",
       "4                  0.943638  0.200000  "
      ]
     },
     "execution_count": 4,
     "metadata": {},
     "output_type": "execute_result"
    }
   ],
   "source": [
    "X_norm = X.apply(lambda x: (x - x.min()) / (x.max() - x.min()))\n",
    "X_norm.head()"
   ]
  },
  {
   "cell_type": "markdown",
   "id": "79986218",
   "metadata": {
    "papermill": {
     "duration": 0.008875,
     "end_time": "2024-11-11T16:58:36.361164",
     "exception": false,
     "start_time": "2024-11-11T16:58:36.352289",
     "status": "completed"
    },
    "tags": []
   },
   "source": [
    "**Split data into training and test sets**"
   ]
  },
  {
   "cell_type": "code",
   "execution_count": 5,
   "id": "326c01e9",
   "metadata": {
    "execution": {
     "iopub.execute_input": "2024-11-11T16:58:36.381592Z",
     "iopub.status.busy": "2024-11-11T16:58:36.381128Z",
     "iopub.status.idle": "2024-11-11T16:58:36.393654Z",
     "shell.execute_reply": "2024-11-11T16:58:36.392269Z"
    },
    "papermill": {
     "duration": 0.026232,
     "end_time": "2024-11-11T16:58:36.396521",
     "exception": false,
     "start_time": "2024-11-11T16:58:36.370289",
     "status": "completed"
    },
    "tags": []
   },
   "outputs": [],
   "source": [
    "X_train, X_test, y_train, y_test = train_test_split(X_norm, y, test_size=0.25, random_state=42)"
   ]
  },
  {
   "cell_type": "markdown",
   "id": "f9f7b1fa",
   "metadata": {
    "papermill": {
     "duration": 0.009224,
     "end_time": "2024-11-11T16:58:36.415321",
     "exception": false,
     "start_time": "2024-11-11T16:58:36.406097",
     "status": "completed"
    },
    "tags": []
   },
   "source": [
    "**One-hot encode labels for training and testing sets**"
   ]
  },
  {
   "cell_type": "code",
   "execution_count": 6,
   "id": "25cb88fb",
   "metadata": {
    "execution": {
     "iopub.execute_input": "2024-11-11T16:58:36.435464Z",
     "iopub.status.busy": "2024-11-11T16:58:36.435002Z",
     "iopub.status.idle": "2024-11-11T16:58:36.442291Z",
     "shell.execute_reply": "2024-11-11T16:58:36.440875Z"
    },
    "papermill": {
     "duration": 0.020382,
     "end_time": "2024-11-11T16:58:36.444904",
     "exception": false,
     "start_time": "2024-11-11T16:58:36.424522",
     "status": "completed"
    },
    "tags": []
   },
   "outputs": [],
   "source": [
    "y_train = to_categorical(y_train, num_classes=2)\n",
    "y_test = to_categorical(y_test, num_classes=2)"
   ]
  },
  {
   "cell_type": "markdown",
   "id": "3a9d557d",
   "metadata": {
    "papermill": {
     "duration": 0.009215,
     "end_time": "2024-11-11T16:58:36.463591",
     "exception": false,
     "start_time": "2024-11-11T16:58:36.454376",
     "status": "completed"
    },
    "tags": []
   },
   "source": [
    "**Initialize the model**"
   ]
  },
  {
   "cell_type": "code",
   "execution_count": 7,
   "id": "1549b743",
   "metadata": {
    "execution": {
     "iopub.execute_input": "2024-11-11T16:58:36.483788Z",
     "iopub.status.busy": "2024-11-11T16:58:36.483293Z",
     "iopub.status.idle": "2024-11-11T16:58:36.685132Z",
     "shell.execute_reply": "2024-11-11T16:58:36.683717Z"
    },
    "papermill": {
     "duration": 0.215207,
     "end_time": "2024-11-11T16:58:36.687950",
     "exception": false,
     "start_time": "2024-11-11T16:58:36.472743",
     "status": "completed"
    },
    "tags": []
   },
   "outputs": [
    {
     "name": "stderr",
     "output_type": "stream",
     "text": [
      "/opt/conda/lib/python3.10/site-packages/keras/src/layers/core/dense.py:87: UserWarning: Do not pass an `input_shape`/`input_dim` argument to a layer. When using Sequential models, prefer using an `Input(shape)` object as the first layer in the model instead.\n",
      "  super().__init__(activity_regularizer=activity_regularizer, **kwargs)\n"
     ]
    }
   ],
   "source": [
    "model = Sequential()\n",
    "\n",
    "# Define the architecture\n",
    "model.add(Dense(100, activation='relu', input_shape=(X_train.shape[1],)))\n",
    "model.add(Dense(100, activation='relu'))\n",
    "model.add(Dense(100, activation='relu'))\n",
    "model.add(Dense(200, activation='relu'))\n",
    "model.add(Dense(50, activation='relu'))\n",
    "model.add(Dense(40, activation='relu'))\n",
    "model.add(Dense(2, activation='softmax'))"
   ]
  },
  {
   "cell_type": "markdown",
   "id": "28a97e66",
   "metadata": {
    "papermill": {
     "duration": 0.010232,
     "end_time": "2024-11-11T16:58:36.707715",
     "exception": false,
     "start_time": "2024-11-11T16:58:36.697483",
     "status": "completed"
    },
    "tags": []
   },
   "source": [
    "**Compile the model**"
   ]
  },
  {
   "cell_type": "code",
   "execution_count": 8,
   "id": "6ec42072",
   "metadata": {
    "execution": {
     "iopub.execute_input": "2024-11-11T16:58:36.728216Z",
     "iopub.status.busy": "2024-11-11T16:58:36.727717Z",
     "iopub.status.idle": "2024-11-11T16:58:36.744943Z",
     "shell.execute_reply": "2024-11-11T16:58:36.743463Z"
    },
    "papermill": {
     "duration": 0.03109,
     "end_time": "2024-11-11T16:58:36.748196",
     "exception": false,
     "start_time": "2024-11-11T16:58:36.717106",
     "status": "completed"
    },
    "tags": []
   },
   "outputs": [],
   "source": [
    "model.compile(optimizer='adam', loss='categorical_crossentropy', metrics=['accuracy'])"
   ]
  },
  {
   "cell_type": "markdown",
   "id": "56d35520",
   "metadata": {
    "papermill": {
     "duration": 0.00916,
     "end_time": "2024-11-11T16:58:36.766457",
     "exception": false,
     "start_time": "2024-11-11T16:58:36.757297",
     "status": "completed"
    },
    "tags": []
   },
   "source": [
    "**Define early stopping monitor**"
   ]
  },
  {
   "cell_type": "code",
   "execution_count": 9,
   "id": "161b468e",
   "metadata": {
    "execution": {
     "iopub.execute_input": "2024-11-11T16:58:36.788614Z",
     "iopub.status.busy": "2024-11-11T16:58:36.788162Z",
     "iopub.status.idle": "2024-11-11T16:58:36.794041Z",
     "shell.execute_reply": "2024-11-11T16:58:36.792705Z"
    },
    "papermill": {
     "duration": 0.019638,
     "end_time": "2024-11-11T16:58:36.796726",
     "exception": false,
     "start_time": "2024-11-11T16:58:36.777088",
     "status": "completed"
    },
    "tags": []
   },
   "outputs": [],
   "source": [
    "early_stopping_monitor = EarlyStopping(patience=10)"
   ]
  },
  {
   "cell_type": "markdown",
   "id": "b356ade2",
   "metadata": {
    "papermill": {
     "duration": 0.00881,
     "end_time": "2024-11-11T16:58:36.814713",
     "exception": false,
     "start_time": "2024-11-11T16:58:36.805903",
     "status": "completed"
    },
    "tags": []
   },
   "source": [
    "**Train the model**"
   ]
  },
  {
   "cell_type": "code",
   "execution_count": 10,
   "id": "0dfe67f9",
   "metadata": {
    "execution": {
     "iopub.execute_input": "2024-11-11T16:58:36.835171Z",
     "iopub.status.busy": "2024-11-11T16:58:36.834345Z",
     "iopub.status.idle": "2024-11-11T16:58:42.713940Z",
     "shell.execute_reply": "2024-11-11T16:58:42.711988Z"
    },
    "papermill": {
     "duration": 5.893457,
     "end_time": "2024-11-11T16:58:42.717362",
     "exception": false,
     "start_time": "2024-11-11T16:58:36.823905",
     "status": "completed"
    },
    "tags": []
   },
   "outputs": [
    {
     "name": "stdout",
     "output_type": "stream",
     "text": [
      "Epoch 1/100\n",
      "\u001b[1m13/13\u001b[0m \u001b[32m━━━━━━━━━━━━━━━━━━━━\u001b[0m\u001b[37m\u001b[0m \u001b[1m3s\u001b[0m 25ms/step - accuracy: 0.6726 - loss: 0.6696 - val_accuracy: 0.6532 - val_loss: 0.6461\n",
      "Epoch 2/100\n",
      "\u001b[1m13/13\u001b[0m \u001b[32m━━━━━━━━━━━━━━━━━━━━\u001b[0m\u001b[37m\u001b[0m \u001b[1m0s\u001b[0m 6ms/step - accuracy: 0.6491 - loss: 0.6470 - val_accuracy: 0.6532 - val_loss: 0.6130\n",
      "Epoch 3/100\n",
      "\u001b[1m13/13\u001b[0m \u001b[32m━━━━━━━━━━━━━━━━━━━━\u001b[0m\u001b[37m\u001b[0m \u001b[1m0s\u001b[0m 6ms/step - accuracy: 0.6889 - loss: 0.5912 - val_accuracy: 0.7168 - val_loss: 0.5674\n",
      "Epoch 4/100\n",
      "\u001b[1m13/13\u001b[0m \u001b[32m━━━━━━━━━━━━━━━━━━━━\u001b[0m\u001b[37m\u001b[0m \u001b[1m0s\u001b[0m 6ms/step - accuracy: 0.7282 - loss: 0.5714 - val_accuracy: 0.7110 - val_loss: 0.5415\n",
      "Epoch 5/100\n",
      "\u001b[1m13/13\u001b[0m \u001b[32m━━━━━━━━━━━━━━━━━━━━\u001b[0m\u001b[37m\u001b[0m \u001b[1m0s\u001b[0m 6ms/step - accuracy: 0.7497 - loss: 0.5107 - val_accuracy: 0.7225 - val_loss: 0.5284\n",
      "Epoch 6/100\n",
      "\u001b[1m13/13\u001b[0m \u001b[32m━━━━━━━━━━━━━━━━━━━━\u001b[0m\u001b[37m\u001b[0m \u001b[1m0s\u001b[0m 6ms/step - accuracy: 0.7546 - loss: 0.4955 - val_accuracy: 0.6647 - val_loss: 0.6222\n",
      "Epoch 7/100\n",
      "\u001b[1m13/13\u001b[0m \u001b[32m━━━━━━━━━━━━━━━━━━━━\u001b[0m\u001b[37m\u001b[0m \u001b[1m0s\u001b[0m 6ms/step - accuracy: 0.7672 - loss: 0.4640 - val_accuracy: 0.6879 - val_loss: 0.5581\n",
      "Epoch 8/100\n",
      "\u001b[1m13/13\u001b[0m \u001b[32m━━━━━━━━━━━━━━━━━━━━\u001b[0m\u001b[37m\u001b[0m \u001b[1m0s\u001b[0m 6ms/step - accuracy: 0.7478 - loss: 0.4803 - val_accuracy: 0.7168 - val_loss: 0.5212\n",
      "Epoch 9/100\n",
      "\u001b[1m13/13\u001b[0m \u001b[32m━━━━━━━━━━━━━━━━━━━━\u001b[0m\u001b[37m\u001b[0m \u001b[1m0s\u001b[0m 6ms/step - accuracy: 0.7956 - loss: 0.4479 - val_accuracy: 0.6879 - val_loss: 0.5313\n",
      "Epoch 10/100\n",
      "\u001b[1m13/13\u001b[0m \u001b[32m━━━━━━━━━━━━━━━━━━━━\u001b[0m\u001b[37m\u001b[0m \u001b[1m0s\u001b[0m 6ms/step - accuracy: 0.8181 - loss: 0.4242 - val_accuracy: 0.7399 - val_loss: 0.5047\n",
      "Epoch 11/100\n",
      "\u001b[1m13/13\u001b[0m \u001b[32m━━━━━━━━━━━━━━━━━━━━\u001b[0m\u001b[37m\u001b[0m \u001b[1m0s\u001b[0m 6ms/step - accuracy: 0.7692 - loss: 0.4544 - val_accuracy: 0.7341 - val_loss: 0.4902\n",
      "Epoch 12/100\n",
      "\u001b[1m13/13\u001b[0m \u001b[32m━━━━━━━━━━━━━━━━━━━━\u001b[0m\u001b[37m\u001b[0m \u001b[1m0s\u001b[0m 6ms/step - accuracy: 0.8148 - loss: 0.4044 - val_accuracy: 0.7110 - val_loss: 0.5164\n",
      "Epoch 13/100\n",
      "\u001b[1m13/13\u001b[0m \u001b[32m━━━━━━━━━━━━━━━━━━━━\u001b[0m\u001b[37m\u001b[0m \u001b[1m0s\u001b[0m 8ms/step - accuracy: 0.8171 - loss: 0.4048 - val_accuracy: 0.7457 - val_loss: 0.4907\n",
      "Epoch 14/100\n",
      "\u001b[1m13/13\u001b[0m \u001b[32m━━━━━━━━━━━━━━━━━━━━\u001b[0m\u001b[37m\u001b[0m \u001b[1m0s\u001b[0m 7ms/step - accuracy: 0.8100 - loss: 0.4237 - val_accuracy: 0.7341 - val_loss: 0.4880\n",
      "Epoch 15/100\n",
      "\u001b[1m13/13\u001b[0m \u001b[32m━━━━━━━━━━━━━━━━━━━━\u001b[0m\u001b[37m\u001b[0m \u001b[1m0s\u001b[0m 8ms/step - accuracy: 0.8396 - loss: 0.3708 - val_accuracy: 0.7168 - val_loss: 0.4859\n",
      "Epoch 16/100\n",
      "\u001b[1m13/13\u001b[0m \u001b[32m━━━━━━━━━━━━━━━━━━━━\u001b[0m\u001b[37m\u001b[0m \u001b[1m0s\u001b[0m 7ms/step - accuracy: 0.8089 - loss: 0.3997 - val_accuracy: 0.7457 - val_loss: 0.4970\n",
      "Epoch 17/100\n",
      "\u001b[1m13/13\u001b[0m \u001b[32m━━━━━━━━━━━━━━━━━━━━\u001b[0m\u001b[37m\u001b[0m \u001b[1m0s\u001b[0m 9ms/step - accuracy: 0.8271 - loss: 0.3784 - val_accuracy: 0.7572 - val_loss: 0.4982\n",
      "Epoch 18/100\n",
      "\u001b[1m13/13\u001b[0m \u001b[32m━━━━━━━━━━━━━━━━━━━━\u001b[0m\u001b[37m\u001b[0m \u001b[1m0s\u001b[0m 8ms/step - accuracy: 0.8178 - loss: 0.3860 - val_accuracy: 0.7399 - val_loss: 0.4896\n",
      "Epoch 19/100\n",
      "\u001b[1m13/13\u001b[0m \u001b[32m━━━━━━━━━━━━━━━━━━━━\u001b[0m\u001b[37m\u001b[0m \u001b[1m0s\u001b[0m 7ms/step - accuracy: 0.8462 - loss: 0.3707 - val_accuracy: 0.7225 - val_loss: 0.4956\n",
      "Epoch 20/100\n",
      "\u001b[1m13/13\u001b[0m \u001b[32m━━━━━━━━━━━━━━━━━━━━\u001b[0m\u001b[37m\u001b[0m \u001b[1m0s\u001b[0m 7ms/step - accuracy: 0.8708 - loss: 0.3525 - val_accuracy: 0.7399 - val_loss: 0.5100\n",
      "Epoch 21/100\n",
      "\u001b[1m13/13\u001b[0m \u001b[32m━━━━━━━━━━━━━━━━━━━━\u001b[0m\u001b[37m\u001b[0m \u001b[1m0s\u001b[0m 7ms/step - accuracy: 0.8701 - loss: 0.3220 - val_accuracy: 0.7399 - val_loss: 0.5108\n",
      "Epoch 22/100\n",
      "\u001b[1m13/13\u001b[0m \u001b[32m━━━━━━━━━━━━━━━━━━━━\u001b[0m\u001b[37m\u001b[0m \u001b[1m0s\u001b[0m 6ms/step - accuracy: 0.8693 - loss: 0.3021 - val_accuracy: 0.7399 - val_loss: 0.5148\n",
      "Epoch 23/100\n",
      "\u001b[1m13/13\u001b[0m \u001b[32m━━━━━━━━━━━━━━━━━━━━\u001b[0m\u001b[37m\u001b[0m \u001b[1m0s\u001b[0m 6ms/step - accuracy: 0.8679 - loss: 0.3428 - val_accuracy: 0.7110 - val_loss: 0.5045\n",
      "Epoch 24/100\n",
      "\u001b[1m13/13\u001b[0m \u001b[32m━━━━━━━━━━━━━━━━━━━━\u001b[0m\u001b[37m\u001b[0m \u001b[1m0s\u001b[0m 6ms/step - accuracy: 0.8588 - loss: 0.3435 - val_accuracy: 0.7457 - val_loss: 0.5182\n",
      "Epoch 25/100\n",
      "\u001b[1m13/13\u001b[0m \u001b[32m━━━━━━━━━━━━━━━━━━━━\u001b[0m\u001b[37m\u001b[0m \u001b[1m0s\u001b[0m 6ms/step - accuracy: 0.8661 - loss: 0.3228 - val_accuracy: 0.7225 - val_loss: 0.4986\n"
     ]
    }
   ],
   "source": [
    "model_training = model.fit(X_train, y_train, validation_split=0.3, epochs=100, \n",
    "                           callbacks=[early_stopping_monitor], verbose=1)"
   ]
  },
  {
   "cell_type": "markdown",
   "id": "eb35fd57",
   "metadata": {
    "papermill": {
     "duration": 0.025191,
     "end_time": "2024-11-11T16:58:42.767357",
     "exception": false,
     "start_time": "2024-11-11T16:58:42.742166",
     "status": "completed"
    },
    "tags": []
   },
   "source": [
    "**Visualize training and validation loss**"
   ]
  },
  {
   "cell_type": "code",
   "execution_count": 11,
   "id": "47e8cc62",
   "metadata": {
    "execution": {
     "iopub.execute_input": "2024-11-11T16:58:42.822369Z",
     "iopub.status.busy": "2024-11-11T16:58:42.821407Z",
     "iopub.status.idle": "2024-11-11T16:58:43.206926Z",
     "shell.execute_reply": "2024-11-11T16:58:43.205375Z"
    },
    "papermill": {
     "duration": 0.41652,
     "end_time": "2024-11-11T16:58:43.209461",
     "exception": false,
     "start_time": "2024-11-11T16:58:42.792941",
     "status": "completed"
    },
    "tags": []
   },
   "outputs": [
    {
     "data": {
      "image/png": "[encoded data removed]",
      "text/plain": [
       "<Figure size 640x480 with 1 Axes>"
      ]
     },
     "metadata": {},
     "output_type": "display_data"
    }
   ],
   "source": [
    "plt.plot(model_training.history['val_loss'], 'r', label='Validation Loss')\n",
    "plt.plot(model_training.history['loss'], 'b', label='Training Loss')\n",
    "plt.xlabel('Epochs')\n",
    "plt.ylabel('Loss')\n",
    "plt.title('Training and Validation Loss')\n",
    "\n",
    "# Adjust the x-axis ticks to show every nth epoch\n",
    "plt.xticks(np.arange(0, len(model_training.history['loss']), step=2))  # Adjust step as needed\n",
    "\n",
    "plt.legend()\n",
    "plt.grid()\n",
    "plt.show()\n",
    "\n"
   ]
  },
  {
   "cell_type": "markdown",
   "id": "35ce782a",
   "metadata": {
    "papermill": {
     "duration": 0.016761,
     "end_time": "2024-11-11T16:58:43.243474",
     "exception": false,
     "start_time": "2024-11-11T16:58:43.226713",
     "status": "completed"
    },
    "tags": []
   },
   "source": [
    "**Save the trained model**"
   ]
  },
  {
   "cell_type": "code",
   "execution_count": 12,
   "id": "77950357",
   "metadata": {
    "execution": {
     "iopub.execute_input": "2024-11-11T16:58:43.280005Z",
     "iopub.status.busy": "2024-11-11T16:58:43.279463Z",
     "iopub.status.idle": "2024-11-11T16:58:43.344302Z",
     "shell.execute_reply": "2024-11-11T16:58:43.342875Z"
    },
    "papermill": {
     "duration": 0.086834,
     "end_time": "2024-11-11T16:58:43.347350",
     "exception": false,
     "start_time": "2024-11-11T16:58:43.260516",
     "status": "completed"
    },
    "tags": []
   },
   "outputs": [],
   "source": [
    "model.save('Diabetes_model.h5')"
   ]
  },
  {
   "cell_type": "markdown",
   "id": "4bbc13a7",
   "metadata": {
    "papermill": {
     "duration": 0.016717,
     "end_time": "2024-11-11T16:58:43.381225",
     "exception": false,
     "start_time": "2024-11-11T16:58:43.364508",
     "status": "completed"
    },
    "tags": []
   },
   "source": [
    "**Load the saved model**"
   ]
  },
  {
   "cell_type": "code",
   "execution_count": 13,
   "id": "517388ce",
   "metadata": {
    "execution": {
     "iopub.execute_input": "2024-11-11T16:58:43.417328Z",
     "iopub.status.busy": "2024-11-11T16:58:43.416855Z",
     "iopub.status.idle": "2024-11-11T16:58:43.559118Z",
     "shell.execute_reply": "2024-11-11T16:58:43.557957Z"
    },
    "papermill": {
     "duration": 0.163354,
     "end_time": "2024-11-11T16:58:43.561632",
     "exception": false,
     "start_time": "2024-11-11T16:58:43.398278",
     "status": "completed"
    },
    "tags": []
   },
   "outputs": [
    {
     "data": {
      "text/html": [
       "<pre style=\"white-space:pre;overflow-x:auto;line-height:normal;font-family:Menlo,'DejaVu Sans Mono',consolas,'Courier New',monospace\"><span style=\"font-weight: bold\">Model: \"sequential\"</span>\n",
       "</pre>\n"
      ],
      "text/plain": [
       "\u001b[1mModel: \"sequential\"\u001b[0m\n"
      ]
     },
     "metadata": {},
     "output_type": "display_data"
    },
    {
     "data": {
      "text/html": [
       "<pre style=\"white-space:pre;overflow-x:auto;line-height:normal;font-family:Menlo,'DejaVu Sans Mono',consolas,'Courier New',monospace\">┏━━━━━━━━━━━━━━━━━━━━━━━━━━━━━━━━━┳━━━━━━━━━━━━━━━━━━━━━━━━┳━━━━━━━━━━━━━━━┓\n",
       "┃<span style=\"font-weight: bold\"> Layer (type)                    </span>┃<span style=\"font-weight: bold\"> Output Shape           </span>┃<span style=\"font-weight: bold\">       Param # </span>┃\n",
       "┡━━━━━━━━━━━━━━━━━━━━━━━━━━━━━━━━━╇━━━━━━━━━━━━━━━━━━━━━━━━╇━━━━━━━━━━━━━━━┩\n",
       "│ dense (<span style=\"color: #0087ff; text-decoration-color: #0087ff\">Dense</span>)                   │ (<span style=\"color: #00d7ff; text-decoration-color: #00d7ff\">None</span>, <span style=\"color: #00af00; text-decoration-color: #00af00\">100</span>)            │           <span style=\"color: #00af00; text-decoration-color: #00af00\">900</span> │\n",
       "├─────────────────────────────────┼────────────────────────┼───────────────┤\n",
       "│ dense_1 (<span style=\"color: #0087ff; text-decoration-color: #0087ff\">Dense</span>)                 │ (<span style=\"color: #00d7ff; text-decoration-color: #00d7ff\">None</span>, <span style=\"color: #00af00; text-decoration-color: #00af00\">100</span>)            │        <span style=\"color: #00af00; text-decoration-color: #00af00\">10,100</span> │\n",
       "├─────────────────────────────────┼────────────────────────┼───────────────┤\n",
       "│ dense_2 (<span style=\"color: #0087ff; text-decoration-color: #0087ff\">Dense</span>)                 │ (<span style=\"color: #00d7ff; text-decoration-color: #00d7ff\">None</span>, <span style=\"color: #00af00; text-decoration-color: #00af00\">100</span>)            │        <span style=\"color: #00af00; text-decoration-color: #00af00\">10,100</span> │\n",
       "├─────────────────────────────────┼────────────────────────┼───────────────┤\n",
       "│ dense_3 (<span style=\"color: #0087ff; text-decoration-color: #0087ff\">Dense</span>)                 │ (<span style=\"color: #00d7ff; text-decoration-color: #00d7ff\">None</span>, <span style=\"color: #00af00; text-decoration-color: #00af00\">200</span>)            │        <span style=\"color: #00af00; text-decoration-color: #00af00\">20,200</span> │\n",
       "├─────────────────────────────────┼────────────────────────┼───────────────┤\n",
       "│ dense_4 (<span style=\"color: #0087ff; text-decoration-color: #0087ff\">Dense</span>)                 │ (<span style=\"color: #00d7ff; text-decoration-color: #00d7ff\">None</span>, <span style=\"color: #00af00; text-decoration-color: #00af00\">50</span>)             │        <span style=\"color: #00af00; text-decoration-color: #00af00\">10,050</span> │\n",
       "├─────────────────────────────────┼────────────────────────┼───────────────┤\n",
       "│ dense_5 (<span style=\"color: #0087ff; text-decoration-color: #0087ff\">Dense</span>)                 │ (<span style=\"color: #00d7ff; text-decoration-color: #00d7ff\">None</span>, <span style=\"color: #00af00; text-decoration-color: #00af00\">40</span>)             │         <span style=\"color: #00af00; text-decoration-color: #00af00\">2,040</span> │\n",
       "├─────────────────────────────────┼────────────────────────┼───────────────┤\n",
       "│ dense_6 (<span style=\"color: #0087ff; text-decoration-color: #0087ff\">Dense</span>)                 │ (<span style=\"color: #00d7ff; text-decoration-color: #00d7ff\">None</span>, <span style=\"color: #00af00; text-decoration-color: #00af00\">2</span>)              │            <span style=\"color: #00af00; text-decoration-color: #00af00\">82</span> │\n",
       "└─────────────────────────────────┴────────────────────────┴───────────────┘\n",
       "</pre>\n"
      ],
      "text/plain": [
       "┏━━━━━━━━━━━━━━━━━━━━━━━━━━━━━━━━━┳━━━━━━━━━━━━━━━━━━━━━━━━┳━━━━━━━━━━━━━━━┓\n",
       "┃\u001b[1m \u001b[0m\u001b[1mLayer (type)                   \u001b[0m\u001b[1m \u001b[0m┃\u001b[1m \u001b[0m\u001b[1mOutput Shape          \u001b[0m\u001b[1m \u001b[0m┃\u001b[1m \u001b[0m\u001b[1m      Param #\u001b[0m\u001b[1m \u001b[0m┃\n",
       "┡━━━━━━━━━━━━━━━━━━━━━━━━━━━━━━━━━╇━━━━━━━━━━━━━━━━━━━━━━━━╇━━━━━━━━━━━━━━━┩\n",
       "│ dense (\u001b[38;5;33mDense\u001b[0m)                   │ (\u001b[38;5;45mNone\u001b[0m, \u001b[38;5;34m100\u001b[0m)            │           \u001b[38;5;34m900\u001b[0m │\n",
       "├─────────────────────────────────┼────────────────────────┼───────────────┤\n",
       "│ dense_1 (\u001b[38;5;33mDense\u001b[0m)                 │ (\u001b[38;5;45mNone\u001b[0m, \u001b[38;5;34m100\u001b[0m)            │        \u001b[38;5;34m10,100\u001b[0m │\n",
       "├─────────────────────────────────┼────────────────────────┼───────────────┤\n",
       "│ dense_2 (\u001b[38;5;33mDense\u001b[0m)                 │ (\u001b[38;5;45mNone\u001b[0m, \u001b[38;5;34m100\u001b[0m)            │        \u001b[38;5;34m10,100\u001b[0m │\n",
       "├─────────────────────────────────┼────────────────────────┼───────────────┤\n",
       "│ dense_3 (\u001b[38;5;33mDense\u001b[0m)                 │ (\u001b[38;5;45mNone\u001b[0m, \u001b[38;5;34m200\u001b[0m)            │        \u001b[38;5;34m20,200\u001b[0m │\n",
       "├─────────────────────────────────┼────────────────────────┼───────────────┤\n",
       "│ dense_4 (\u001b[38;5;33mDense\u001b[0m)                 │ (\u001b[38;5;45mNone\u001b[0m, \u001b[38;5;34m50\u001b[0m)             │        \u001b[38;5;34m10,050\u001b[0m │\n",
       "├─────────────────────────────────┼────────────────────────┼───────────────┤\n",
       "│ dense_5 (\u001b[38;5;33mDense\u001b[0m)                 │ (\u001b[38;5;45mNone\u001b[0m, \u001b[38;5;34m40\u001b[0m)             │         \u001b[38;5;34m2,040\u001b[0m │\n",
       "├─────────────────────────────────┼────────────────────────┼───────────────┤\n",
       "│ dense_6 (\u001b[38;5;33mDense\u001b[0m)                 │ (\u001b[38;5;45mNone\u001b[0m, \u001b[38;5;34m2\u001b[0m)              │            \u001b[38;5;34m82\u001b[0m │\n",
       "└─────────────────────────────────┴────────────────────────┴───────────────┘\n"
      ]
     },
     "metadata": {},
     "output_type": "display_data"
    },
    {
     "data": {
      "text/html": [
       "<pre style=\"white-space:pre;overflow-x:auto;line-height:normal;font-family:Menlo,'DejaVu Sans Mono',consolas,'Courier New',monospace\"><span style=\"font-weight: bold\"> Total params: </span><span style=\"color: #00af00; text-decoration-color: #00af00\">53,474</span> (208.89 KB)\n",
       "</pre>\n"
      ],
      "text/plain": [
       "\u001b[1m Total params: \u001b[0m\u001b[38;5;34m53,474\u001b[0m (208.89 KB)\n"
      ]
     },
     "metadata": {},
     "output_type": "display_data"
    },
    {
     "data": {
      "text/html": [
       "<pre style=\"white-space:pre;overflow-x:auto;line-height:normal;font-family:Menlo,'DejaVu Sans Mono',consolas,'Courier New',monospace\"><span style=\"font-weight: bold\"> Trainable params: </span><span style=\"color: #00af00; text-decoration-color: #00af00\">53,472</span> (208.88 KB)\n",
       "</pre>\n"
      ],
      "text/plain": [
       "\u001b[1m Trainable params: \u001b[0m\u001b[38;5;34m53,472\u001b[0m (208.88 KB)\n"
      ]
     },
     "metadata": {},
     "output_type": "display_data"
    },
    {
     "data": {
      "text/html": [
       "<pre style=\"white-space:pre;overflow-x:auto;line-height:normal;font-family:Menlo,'DejaVu Sans Mono',consolas,'Courier New',monospace\"><span style=\"font-weight: bold\"> Non-trainable params: </span><span style=\"color: #00af00; text-decoration-color: #00af00\">0</span> (0.00 B)\n",
       "</pre>\n"
      ],
      "text/plain": [
       "\u001b[1m Non-trainable params: \u001b[0m\u001b[38;5;34m0\u001b[0m (0.00 B)\n"
      ]
     },
     "metadata": {},
     "output_type": "display_data"
    },
    {
     "data": {
      "text/html": [
       "<pre style=\"white-space:pre;overflow-x:auto;line-height:normal;font-family:Menlo,'DejaVu Sans Mono',consolas,'Courier New',monospace\"><span style=\"font-weight: bold\"> Optimizer params: </span><span style=\"color: #00af00; text-decoration-color: #00af00\">2</span> (12.00 B)\n",
       "</pre>\n"
      ],
      "text/plain": [
       "\u001b[1m Optimizer params: \u001b[0m\u001b[38;5;34m2\u001b[0m (12.00 B)\n"
      ]
     },
     "metadata": {},
     "output_type": "display_data"
    }
   ],
   "source": [
    "model = load_model('Diabetes_model.h5')\n",
    "model.summary()"
   ]
  },
  {
   "cell_type": "markdown",
   "id": "fefcaee0",
   "metadata": {
    "papermill": {
     "duration": 0.018022,
     "end_time": "2024-11-11T16:58:43.598296",
     "exception": false,
     "start_time": "2024-11-11T16:58:43.580274",
     "status": "completed"
    },
    "tags": []
   },
   "source": [
    "**Make predictions on the test set**"
   ]
  },
  {
   "cell_type": "code",
   "execution_count": 14,
   "id": "a60afbe5",
   "metadata": {
    "execution": {
     "iopub.execute_input": "2024-11-11T16:58:43.637982Z",
     "iopub.status.busy": "2024-11-11T16:58:43.637490Z",
     "iopub.status.idle": "2024-11-11T16:58:43.810384Z",
     "shell.execute_reply": "2024-11-11T16:58:43.808781Z"
    },
    "papermill": {
     "duration": 0.195632,
     "end_time": "2024-11-11T16:58:43.813340",
     "exception": false,
     "start_time": "2024-11-11T16:58:43.617708",
     "status": "completed"
    },
    "tags": []
   },
   "outputs": [
    {
     "name": "stdout",
     "output_type": "stream",
     "text": [
      "\u001b[1m6/6\u001b[0m \u001b[32m━━━━━━━━━━━━━━━━━━━━\u001b[0m\u001b[37m\u001b[0m \u001b[1m0s\u001b[0m 2ms/step \n",
      "[0.31966168 0.02816199 0.023107   0.11590105 0.367931   0.5286901\n",
      " 0.00754167 0.21139957 0.85015213 0.68021584 0.11036277 0.8708256\n",
      " 0.4701938  0.557141   0.06679849 0.30049437 0.04115602 0.01906837\n",
      " 0.6369482  0.75362563 0.14620148 0.01816539 0.4847735  0.01436876\n",
      " 0.5695629  0.9064775  0.05233943 0.00668409 0.01370208 0.09278895\n",
      " 0.92583597 0.7839237  0.9059682  0.9149205  0.7819974  0.87846184\n",
      " 0.01199012 0.3610054  0.16395445 0.8780429  0.03195551 0.34603152\n",
      " 0.4971799  0.27251264 0.00581703 0.8137343  0.04427379 0.07927615\n",
      " 0.06372193 0.9424209  0.01010517 0.7964341  0.86720484 0.07737637\n",
      " 0.01844274 0.01115488 0.63889486 0.00330198 0.7475823  0.8207031\n",
      " 0.8367944  0.647968   0.59862846 0.5188997  0.00559375 0.70064557\n",
      " 0.02355042 0.6827883  0.0060416  0.7910815  0.81611264 0.0218695\n",
      " 0.0272589  0.01126537 0.047507   0.60893136 0.30927822 0.02369832\n",
      " 0.03050002 0.05361495 0.72892934 0.11175743 0.04246044 0.11075709\n",
      " 0.21361083 0.9169887  0.82180375 0.56987345 0.03587725 0.02531194\n",
      " 0.0176139  0.14805809 0.00294334 0.1527715  0.68727773 0.886206\n",
      " 0.25755447 0.11196888 0.5592567  0.0532248  0.83288187 0.0077249\n",
      " 0.7365021  0.7120199  0.7467129  0.02177278 0.5924001  0.9116852\n",
      " 0.03734487 0.7681569  0.06732192 0.01481067 0.00687535 0.85110545\n",
      " 0.0549792  0.7131855  0.8946285  0.21173228 0.02401681 0.22420205\n",
      " 0.01035198 0.2601516  0.08350787 0.01272068 0.04123747 0.42453197\n",
      " 0.01291065 0.8274317  0.7931126  0.91784143 0.6934976  0.89072776\n",
      " 0.00948172 0.69436795 0.91370183 0.0485016  0.02182496 0.63080275\n",
      " 0.81404096 0.00574127 0.0493126  0.01587537 0.05140976 0.05828124\n",
      " 0.07490973 0.22983181 0.1489238  0.00954608 0.2828417  0.68109983\n",
      " 0.03499359 0.1103787  0.4290651  0.45927605 0.00274107 0.62339073\n",
      " 0.69862324 0.26367375 0.74441195 0.02341941 0.6062387  0.76819825\n",
      " 0.03169905 0.00613376 0.07470486 0.8617258  0.00560028 0.10590552\n",
      " 0.9010814  0.7044414  0.64734197 0.15274152 0.6134648  0.41321102\n",
      " 0.77994126 0.00891514 0.26818684 0.63087136 0.35178408 0.08143975\n",
      " 0.71367943 0.6271365  0.28346986 0.8306112  0.79821163 0.02292458\n",
      " 0.00793029 0.06570868 0.7976437  0.71848094 0.01947578 0.02230233]\n"
     ]
    }
   ],
   "source": [
    "# Make predictions on the test set\n",
    "predictions = model.predict(X_test)\n",
    "\n",
    "# Display the probabilities for class \"1\" (indicating diabetic)\n",
    "print(predictions[:, 1])"
   ]
  }
 ],
 "metadata": {
  "kaggle": {
   "accelerator": "none",
   "dataSources": [
    {
     "datasetId": 228,
     "sourceId": 482,
     "sourceType": "datasetVersion"
    }
   ],
   "dockerImageVersionId": 30786,
   "isGpuEnabled": false,
   "isInternetEnabled": false,
   "language": "python",
   "sourceType": "notebook"
  },
  "kernelspec": {
   "display_name": "Python 3",
   "language": "python",
   "name": "python3"
  },
  "language_info": {
   "codemirror_mode": {
    "name": "ipython",
    "version": 3
   },
   "file_extension": ".py",
   "mimetype": "text/x-python",
   "name": "python",
   "nbconvert_exporter": "python",
   "pygments_lexer": "ipython3",
   "version": "3.10.14"
  },
  "papermill": {
   "default_parameters": {},
   "duration": 32.547631,
   "end_time": "2024-11-11T16:58:46.279280",
   "environment_variables": {},
   "exception": null,
   "input_path": "__notebook__.ipynb",
   "output_path": "__notebook__.ipynb",
   "parameters": {},
   "start_time": "2024-11-11T16:58:13.731649",
   "version": "2.6.0"
  }
 },
 "nbformat": 4,
 "nbformat_minor": 5
}
